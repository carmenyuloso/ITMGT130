{
 "cells": [
  {
   "cell_type": "markdown",
   "metadata": {},
   "source": [
    "### 172053SO4BSMGT"
   ]
  },
  {
   "cell_type": "markdown",
   "metadata": {},
   "source": [
    "### Steps:\n",
    "1. Get 3 positive integers\n",
    "2. Add all integers \n",
    "3. Divide sum by 3 \n",
    "\n",
    "### Sample Input:\n",
    "1. Enter first number: 1\n",
    "2. Enter second number: 2\n",
    "3. Enter third number: 3\n",
    "4. Sample Output:\n",
    "5. The average is 2.0"
   ]
  },
  {
   "cell_type": "code",
   "execution_count": 9,
   "metadata": {},
   "outputs": [
    {
     "name": "stdout",
     "output_type": "stream",
     "text": [
      "Enter first number:1\n",
      "Enter second number:1\n",
      "Enter third number:1\n",
      "The Average is  1.0\n"
     ]
    }
   ],
   "source": [
    "def three_number_average (number1, number2, number3):\n",
    "    average = (number1 + number2 + number3)/3\n",
    "    print(\"The Average is \", average)\n",
    "\n",
    "number1 = int(input('Enter first number:'))\n",
    "number2 = int(input('Enter second number:'))\n",
    "number3 = int(input('Enter third number:'))\n",
    "\n",
    "\n",
    "three_number_average(number1, number2, number3)"
   ]
  },
  {
   "cell_type": "markdown",
   "metadata": {},
   "source": []
  }
 ],
 "metadata": {
  "kernelspec": {
   "display_name": "Python 3",
   "language": "python",
   "name": "python3"
  },
  "language_info": {
   "codemirror_mode": {
    "name": "ipython",
    "version": 3
   },
   "file_extension": ".py",
   "mimetype": "text/x-python",
   "name": "python",
   "nbconvert_exporter": "python",
   "pygments_lexer": "ipython3",
   "version": "3.8.5"
  }
 },
 "nbformat": 4,
 "nbformat_minor": 4
}
