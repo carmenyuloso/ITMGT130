{
 "cells": [
  {
   "cell_type": "markdown",
   "metadata": {},
   "source": [
    "172053  \n",
    "So  \n",
    "4 BS MGT "
   ]
  },
  {
   "cell_type": "markdown",
   "metadata": {},
   "source": [
    "### Problem 1 (3pts)\n",
    "\n",
    "Write a program that accepts an amount in US Dollars and converts to Philippine Pesos.\n",
    "\n",
    "The input prompts must be as follows:\n",
    "\n",
    "**Enter the amount in US Dollars:** \n",
    "\n",
    "The output should be as follows:\n",
    "\n",
    "**[us dollar amount]** US dollar(s) = **[philippine peso amount]** Philippine Pesos.\n",
    "\n",
    "You must define a function dollars_to_pesos which accepts the amount in US dollars and returns the amount in Philippine Pesos.\n",
    "\n",
    "Assume, for simplicity, that the conversion rate is PHP50 to USD 1.\n",
    "\n",
    "**Sample Input:**\n",
    "\n",
    "Enter the amount in US Dollars: 1\n",
    "\n",
    "Sample Output:\n",
    "\n",
    "1 US dollar(s) = 50 Philippine Pesos.\n",
    "\n",
    "**Sample Input:**\n",
    "\n",
    "Enter the amount in US Dollars: 20\n",
    "\n",
    "**Sample Output:**\n",
    "\n",
    "20 US dollar(s) = 1000 Philippine Pesos.\n"
   ]
  },
  {
   "cell_type": "code",
   "execution_count": 4,
   "metadata": {},
   "outputs": [
    {
     "name": "stdout",
     "output_type": "stream",
     "text": [
      "Enter the amount in US Dollars: 100\n",
      "100 US dollar(s) = 5000 Philippine Pesos\n"
     ]
    }
   ],
   "source": [
    "input_dollars = int(input(\"Enter the amount in US Dollars: \"))\n",
    "\n",
    "def dollars_to_pesos(s):\n",
    "    \n",
    "    philippine_peso = s * 50\n",
    "    print(input_dollars, \"US dollar(s) =\", philippine_peso, \"Philippine Pesos\")\n",
    "\n",
    "dollars_to_pesos(input_dollars)\n",
    "    "
   ]
  },
  {
   "cell_type": "markdown",
   "metadata": {},
   "source": [
    "### Problem 2 (3pts)\n",
    "\n",
    "Write a program that accepts two positive integers, a and b, one per line.\n",
    "\n",
    "The output should be as follows:\n",
    "\n",
    "The first line should be the **sum** of **a** and **b**.\n",
    "\n",
    "The second line should be **b subtracted** from **a**.\n",
    "\n",
    "The third line should be the **product** of **a** and **b**.\n",
    "\n",
    "The fourth line should be the **quotient** when **a** is divided by **b, excluding the remainder.**\n",
    "\n",
    "The fifth line should be the **remainder** when **a** is divided by **b**.\n",
    "\n",
    "**Sample Input:**\n",
    "\n",
    "55  \n",
    "3\n",
    "\n",
    "**Sample Output:**\n",
    "\n",
    "58  \n",
    "52  \n",
    "165  \n",
    "18  \n",
    "1  \n",
    "\n",
    "\n",
    "**Sample Input:**\n",
    "\n",
    "128  \n",
    "8  \n",
    "\n",
    "**Sample Output:**\n",
    "\n",
    "136  \n",
    "120  \n",
    "1024  \n",
    "16  \n",
    "0  \n"
   ]
  },
  {
   "cell_type": "code",
   "execution_count": 11,
   "metadata": {},
   "outputs": [
    {
     "name": "stdout",
     "output_type": "stream",
     "text": [
      "Enter a positive integer: 55\n",
      "Enter a positive integer: 3\n",
      "58\n",
      "52\n",
      "165\n",
      "18\n",
      "1\n"
     ]
    }
   ],
   "source": [
    "a = int(input(\"Enter a positive integer: \"))\n",
    "b = int(input(\"Enter a positive integer: \"))\n",
    "\n",
    "print(a + b)\n",
    "print(a - b)\n",
    "print(a * b)\n",
    "print(a//b)\n",
    "print(a % b)"
   ]
  },
  {
   "cell_type": "markdown",
   "metadata": {},
   "source": [
    "### Problem 3 (4pts)\n",
    "\n",
    "Write a program that computes for your Body Mass Index (BMI). The formula for the BMI is as follows:\n",
    "\n",
    "𝐵𝑀𝐼=𝑘𝑔𝑚2, where kg is a person's weight in kilograms and m is height in meters.\n",
    "\n",
    "Be sure to convert cm to meters for the formula to work; write a function **convert_cm_to_m** which accepts a parameter cm and returns the meters. Feel free to Google the conversion.\n",
    "\n",
    "Make sure that the program prompts the user with **Enter kg** and **Enter cm** for kg and cm respectively.\n",
    "\n",
    "Your output should be in the form BMI: <computed bmi>\n",
    "\n",
    "**Sample Input**\n",
    "\n",
    "Enter kg: 65\n",
    "Enter cm: 180\n",
    "\n",
    "**Sample Output**\n",
    "\n",
    "BMI: 20.061728395061728\n",
    "\n",
    "**Sample Input**\n",
    "\n",
    "Enter kg: 67\n",
    "Enter cm: 178\n",
    "\n",
    "**Sample Output**\n",
    "\n",
    "BMI: 21.146319909102385\n",
    "\n",
    "**Sample Input**\n",
    "\n",
    "Enter kg: 70\n",
    "Enter cm: 170\n",
    "\n",
    "**Sample Output**\n",
    "\n",
    "BMI: 24.221453287197235\n",
    "\n"
   ]
  },
  {
   "cell_type": "code",
   "execution_count": 34,
   "metadata": {},
   "outputs": [
    {
     "name": "stdout",
     "output_type": "stream",
     "text": [
      "Enter kg: 70\n",
      "Enter cm: 170\n",
      "1.7\n",
      "70\n",
      "BMI:  24.221453287197235\n"
     ]
    }
   ],
   "source": [
    "kilogram = int(input(\"Enter kg: \"))\n",
    "centimeter = int(input(\"Enter cm: \"))\n",
    "\n",
    "def convert_cm_to_m(x):\n",
    "    meter = 0.01 * x\n",
    "    bmi = kg / (meter**2)\n",
    "    print(\"BMI: \",bmi)\n",
    "\n",
    "convert_cm_to_m(centimeter)\n",
    "\n",
    "\n",
    "\n",
    "    \n",
    "    "
   ]
  },
  {
   "cell_type": "code",
   "execution_count": null,
   "metadata": {},
   "outputs": [],
   "source": []
  }
 ],
 "metadata": {
  "kernelspec": {
   "display_name": "Python 3",
   "language": "python",
   "name": "python3"
  },
  "language_info": {
   "codemirror_mode": {
    "name": "ipython",
    "version": 3
   },
   "file_extension": ".py",
   "mimetype": "text/x-python",
   "name": "python",
   "nbconvert_exporter": "python",
   "pygments_lexer": "ipython3",
   "version": "3.8.5"
  }
 },
 "nbformat": 4,
 "nbformat_minor": 4
}
