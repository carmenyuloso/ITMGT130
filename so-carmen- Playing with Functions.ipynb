{
 "cells": [
  {
   "cell_type": "markdown",
   "metadata": {},
   "source": [
    "# 1\n",
    "## 1 point\n",
    "Write a function that takes the circumference of a circle as a parameter and returns the area of that circle.\n",
    "\n",
    "Note: Assume the value of pi is 3.1416"
   ]
  },
  {
   "cell_type": "markdown",
   "metadata": {},
   "source": [
    "### Steps\n",
    "1. Get circumference_of_circle \n",
    "2. area = ((circumference_of_circle)**2)/ (4 * 3.14) \n",
    "3. Return area "
   ]
  },
  {
   "cell_type": "code",
   "execution_count": 3,
   "metadata": {},
   "outputs": [
    {
     "name": "stdout",
     "output_type": "stream",
     "text": [
      "Enter Circumference: 9\n",
      "The area is  6.445760122230711\n"
     ]
    }
   ],
   "source": [
    "def area_of_circle (circumference):\n",
    "    area = (circumference**2) / (4 * 3.1416)\n",
    "    print (\"The area is \", area)\n",
    "    \n",
    "circumference = int (input(\"Enter Circumference: \"))\n",
    "\n",
    "area_of_circle(circumference)"
   ]
  },
  {
   "cell_type": "markdown",
   "metadata": {},
   "source": [
    "# 2\n",
    "## 2 points\n",
    "Write a function that takes a 5-character string as a parameter and returns the string in reverse order.\n",
    "\n",
    "e.g. reverseString(\"Hello\") -> \"olleH\""
   ]
  },
  {
   "cell_type": "code",
   "execution_count": 63,
   "metadata": {},
   "outputs": [
    {
     "name": "stdout",
     "output_type": "stream",
     "text": [
      "olleH\n"
     ]
    }
   ],
   "source": [
    "def reverse_string(word):\n",
    "    print(\"{}{}{}{}{}\". format(word[-1],word[-2],word[-3],word[-4],word[-5]))\n",
    "\n",
    "reverse_string(\"Hello\")    "
   ]
  },
  {
   "cell_type": "markdown",
   "metadata": {},
   "source": [
    "# 3\n",
    "## 2 points\n",
    "\n",
    "Write a function that takes a positive integer as input and returns the sum of all positive integers smaller than and including the number itself.\n",
    "\n",
    "e.g. backAddition(5) -> 1 + 2 + 3 + 4 + 5 -> 15\n"
   ]
  },
  {
   "cell_type": "code",
   "execution_count": 42,
   "metadata": {},
   "outputs": [
    {
     "name": "stdout",
     "output_type": "stream",
     "text": [
      "The sum is 15\n"
     ]
    }
   ],
   "source": [
    "def backAddition(positive_integer):\n",
    "    y = 0\n",
    "    for i in range(positive_integer + 1):\n",
    "        y = y + i\n",
    "    print(\"The sum is\",y)\n",
    "\n",
    "backAddition(5)"
   ]
  },
  {
   "cell_type": "markdown",
   "metadata": {},
   "source": [
    "# 4\n",
    "## 5 Points (All or nothing)\n",
    "\n",
    "The sum of the squares of the first ten natural numbers is, 12 + 22 + ... + 102 = 385\n",
    "\n",
    "The square of the sum of the first ten natural numbers is, (1 + 2 + ... + 10)2 = 552 = 3025\n",
    "\n",
    "Hence the difference between the sum of the squares of the first ten natural numbers and the square of the sum is 3025 − 385 = 2640.\n",
    "\n",
    "Find the difference between the sum of the squares of the first one hundred natural numbers and the square of the sum.\n",
    "\n",
    "Show code that generates the answer."
   ]
  },
  {
   "cell_type": "code",
   "execution_count": 41,
   "metadata": {},
   "outputs": [
    {
     "name": "stdout",
     "output_type": "stream",
     "text": [
      "2640.0\n"
     ]
    }
   ],
   "source": [
    "x = ((10*(10+1))*(2*10+1))/6\n",
    "\n",
    "y = (10+9+8+7+6+5+4+3+2+1)**2\n",
    "\n",
    "print (y - x)"
   ]
  },
  {
   "cell_type": "markdown",
   "metadata": {},
   "source": [
    "# 5\n",
    "## 5 Points\n",
    "\n",
    "Write a function that allows a self-service Point of Sale system to give you the exact change when you pay in cash.\n",
    "\n",
    "The function should accept the number of cents entered by the caller of the function. It then should display the denominations of the coins that should be given to the buyer. The change should use as few coins as possible. Assume that the Point of Sale system is loaded with 1 cent, 5 cents, 10 cents, 25 cents and 1 peso coins.\n",
    "\n",
    "Write main program code that accepts the number of cents manually through user input and calls the function written above.\n",
    "\n",
    "Input: The program accepts one positive integer, cents, corresponding to the total change to be given by the Point of Sale system.\n",
    "\n",
    "Output: The number of 1 peso, 25 cents, 10 cents, 5 cents and 1 cent coins respectively. There should be one output per line.\n",
    "\n",
    "Sample Input 1:\n",
    "105\n",
    "\n",
    "Sample Output 1\n",
    "1\n",
    "0\n",
    "0\n",
    "1\n",
    "0\n",
    "\n",
    "Sample Input 2:\n",
    "69\n",
    "\n",
    "Sample Output 2:\n",
    "0\n",
    "2\n",
    "1\n",
    "1\n",
    "4"
   ]
  },
  {
   "cell_type": "code",
   "execution_count": 37,
   "metadata": {},
   "outputs": [
    {
     "name": "stdout",
     "output_type": "stream",
     "text": [
      "input number of cents: 980\n",
      "9 1 3 0\n"
     ]
    }
   ],
   "source": [
    "input_cents = int(input(\"input number of cents: \"))\n",
    "\n",
    "def exact_change(x):\n",
    "\n",
    "    one_peso = 0\n",
    "    twentyfive_cents = 0\n",
    "    ten_cents = 0\n",
    "    five_cents = 0\n",
    "    one_cent = 0\n",
    "\n",
    "    while x >=100:\n",
    "        one_peso += 1 \n",
    "        x = x - 100\n",
    "\n",
    "    while x >=50:\n",
    "        twentyfive_cents += 1 \n",
    "        x = x - 50\n",
    "\n",
    "    while x >=10:\n",
    "        ten_cents += 1 \n",
    "        x = x - 10\n",
    "\n",
    "    while x >=1:\n",
    "        one_cent += 1 \n",
    "        x = x - 1\n",
    "\n",
    "    print(one_peso, twentyfive_cents, ten_cents, one_cent)\n",
    "\n",
    "exact_change(input_cents)\n"
   ]
  },
  {
   "cell_type": "code",
   "execution_count": null,
   "metadata": {},
   "outputs": [],
   "source": []
  }
 ],
 "metadata": {
  "kernelspec": {
   "display_name": "Python 3",
   "language": "python",
   "name": "python3"
  },
  "language_info": {
   "codemirror_mode": {
    "name": "ipython",
    "version": 3
   },
   "file_extension": ".py",
   "mimetype": "text/x-python",
   "name": "python",
   "nbconvert_exporter": "python",
   "pygments_lexer": "ipython3",
   "version": "3.8.5"
  }
 },
 "nbformat": 4,
 "nbformat_minor": 4
}
