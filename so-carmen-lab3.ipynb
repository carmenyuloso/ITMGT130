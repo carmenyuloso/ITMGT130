{
 "cells": [
  {
   "cell_type": "markdown",
   "metadata": {},
   "source": [
    "### 172053 So 4 BS MGT"
   ]
  },
  {
   "cell_type": "markdown",
   "metadata": {},
   "source": [
    "### Problem 1: Social Media Example \n",
    "(6pts)\n",
    "\n",
    "In a prototype of a new in-campus mobile app, there is social media support similar to what's seen on Facebook, Instagram and Spotify. \n",
    "Students and Faculty belong to the same social graph. \n",
    "Any student or teacher can follow other members of the app community. \n",
    "If two members follow each other, they are considered friends.\n",
    "\n",
    "Write a function `relationship_status(from_member, to_member)` that determines if two members are **friends**, or if the first person **follows** or is **followed by** the second person. The function should return one of these:\n",
    "\n",
    "- \"follower\" (type is str)\n",
    "- \"followed by\"(type is str)\n",
    "- None (type is None)"
   ]
  },
  {
   "cell_type": "code",
   "execution_count": 1,
   "metadata": {},
   "outputs": [],
   "source": [
    "social_graph = {\n",
    "    \"@bongolpoc\":{\"first_name\":\"Joselito\",\n",
    "                  \"last_name\":\"Olpoc\",\n",
    "                  \"following\":[\n",
    "                  ]\n",
    "    },\n",
    "    \"@joaquin\":  {\"first_name\":\"Joaquin\",\n",
    "                  \"last_name\":\"Gonzales\",\n",
    "                  \"following\":[\n",
    "                      \"@chums\",\"@jobenilagan\"\n",
    "                  ]\n",
    "    },\n",
    "    \"@chums\" : {\"first_name\":\"Matthew\",\n",
    "                \"last_name\":\"Uy\",\n",
    "                \"following\":[\n",
    "                    \"@bongolpoc\",\"@miketan\",\"@rudyang\",\"@joeilagan\"\n",
    "                ]\n",
    "    },\n",
    "    \"@jobenilagan\":{\"first_name\":\"Joben\",\n",
    "                   \"last_name\":\"Ilagan\",\n",
    "                   \"following\":[\n",
    "                    \"@eeebeee\",\"@joeilagan\",\"@chums\",\"@joaquin\"\n",
    "                   ]\n",
    "    },\n",
    "    \"@joeilagan\":{\"first_name\":\"Joe\",\n",
    "                  \"last_name\":\"Ilagan\",\n",
    "                  \"following\":[\n",
    "                    \"@eeebeee\",\"@jobenilagan\",\"@chums\"\n",
    "                  ]\n",
    "    },\n",
    "    \"@eeebeee\":  {\"first_name\":\"Elizabeth\",\n",
    "                  \"last_name\":\"Ilagan\",\n",
    "                  \"following\":[\n",
    "                    \"@jobenilagan\",\"@joeilagan\"\n",
    "                  ]\n",
    "    },\n",
    "}"
   ]
  },
  {
   "cell_type": "code",
   "execution_count": 14,
   "metadata": {},
   "outputs": [
    {
     "name": "stdout",
     "output_type": "stream",
     "text": [
      "None\n"
     ]
    }
   ],
   "source": [
    "def relationship_status(from_member, to_member):\n",
    "    if to_member in (social_graph[from_member]['following']) and from_member in (social_graph[to_member]['following']):\n",
    "        print('friends')\n",
    "    elif to_member in (social_graph[from_member]['following']):\n",
    "        print('follower')\n",
    "    elif from_member in (social_graph[to_member]['following']):\n",
    "        print('is followed by')\n",
    "    else:\n",
    "        print('None')\n",
    "\n",
    "relationship_status('@chums','@eeebeee')"
   ]
  },
  {
   "cell_type": "markdown",
   "metadata": {},
   "source": [
    "### Problem 2\n",
    "\n",
    "(6 Points)\n",
    "\n",
    "Write code that checks a possible winner for the current state of a 3x3 tic-tac-toe board.\n",
    "\n",
    "There are several strategies here:\n",
    "\n",
    "- check if any symbol has all three slots in any row, column, or any of the two diagonals\n",
    "- create a set for each row, column and diagonal; if the set count of 1 indicates a winner. (Why?)\n",
    "\n",
    "You are given the following board configurations:"
   ]
  },
  {
   "cell_type": "code",
   "execution_count": 15,
   "metadata": {},
   "outputs": [],
   "source": [
    "board1 = [\n",
    "['X','X','O'],\n",
    "['O','X','O'],\n",
    "['O','','X'],\n",
    "]\n",
    "\n",
    "board2 = [\n",
    "['X','X','O'],\n",
    "['O','X','O'],\n",
    "['','O','X'],\n",
    "]\n",
    "\n",
    "board3 = [\n",
    "['O','X','O'],\n",
    "['','O','X'],\n",
    "['X','X','O'],\n",
    "]\n",
    "\n",
    "board4 = [\n",
    "['X','X','X'],\n",
    "['O','X','O'],\n",
    "['O','','O'],\n",
    "]\n",
    "\n",
    "board5 = [\n",
    "['X','X','O'],\n",
    "['O','X','O'],\n",
    "['X','','O'],\n",
    "]\n",
    "\n",
    "board6 = [\n",
    "['X','X','O'],\n",
    "['O','X','O'],\n",
    "['X','',''],\n",
    "]"
   ]
  },
  {
   "cell_type": "code",
   "execution_count": 54,
   "metadata": {},
   "outputs": [
    {
     "name": "stdout",
     "output_type": "stream",
     "text": [
      "X\n",
      "X\n",
      "O\n",
      "X\n",
      "O\n",
      "No winner\n"
     ]
    }
   ],
   "source": [
    "\n",
    "def get_winner(board_number):\n",
    "\n",
    "    # from left to right\n",
    "    if (board_number[0][0]) == (board_number[0][1]) == (board_number[0][2]):\n",
    "        print((board_number[0][0]))\n",
    "    elif (board_number[1][0]) == (board_number[1][1]) == (board_number[1][2]):\n",
    "        print((board_number[1][0]))\n",
    "    elif (board_number[2][0]) == (board_number[2][1]) == (board_number[2][2]):\n",
    "        print((board_number[2][0]))\n",
    "\n",
    "    # from up-to-down\n",
    "    elif (board_number[0][0]) == (board_number[1][0]) == (board_number[2][0]):\n",
    "        print((board_number[0][0]))\n",
    "    elif (board_number[0][1]) == (board_number[1][1]) == (board_number[2][1]):\n",
    "        print((board_number[0][1]))\n",
    "    elif (board_number[0][2]) == (board_number[1][2]) == (board_number[2][2]):\n",
    "        print((board_number[0][2]))\n",
    "\n",
    "    # diagonal \n",
    "    elif (board_number[0][0]) == (board_number[1][1]) == (board_number[2][2]):\n",
    "        print((board_number[0][0]))\n",
    "    elif (board_number[0][2]) == (board_number[1][1]) == (board_number[2][1]):\n",
    "        print((board_number[0][2]))\n",
    "    else:\n",
    "        print('No winner')\n",
    "\n",
    "get_winner(board1)\n",
    "get_winner(board2)\n",
    "get_winner(board3)\n",
    "get_winner(board4)\n",
    "get_winner(board5)\n",
    "get_winner(board6)"
   ]
  },
  {
   "cell_type": "markdown",
   "metadata": {},
   "source": [
    "### Problem 3\n",
    "\n",
    "(8 Points)\n",
    "\n",
    "During the pandemic, a shuttle van service is tasked to travel along a predefined circular route as follows:\n",
    "\n",
    "- UP Diliman->Ateneo de Manila (Estimated Time: 10 mins)\n",
    "- Ateneo de Manila->De La Salle Taft (Estimated Time: 35 mins)\n",
    "- De La Salle Taft->UP Diliman (Estimated Time: 55 mins)\n",
    "\n",
    "The route is one-way only. So, the van cannot go back directly to UP Diliman from Ateneo de Manila; rather, it will have to drop by De La Salle Taft first before going to UP Diliman.\n",
    "\n",
    "Write a function called `eta` that accepts the source and destination of the van and returns the estimated number of minutes to reach the destination."
   ]
  },
  {
   "cell_type": "code",
   "execution_count": 66,
   "metadata": {},
   "outputs": [
    {
     "name": "stdout",
     "output_type": "stream",
     "text": [
      "35\n",
      "90\n"
     ]
    }
   ],
   "source": [
    "up_to_ateneo = 10 \n",
    "ateneo_to_lasalle = 35\n",
    "lasalle_to_up = 55 \n",
    "\n",
    "def eta(source, destination):\n",
    "    if source == 'UP Diliman': # when source = UP Diliman\n",
    "        if destination == 'Ateneo de Manila':\n",
    "            print(up_to_ateneo, 'minutes')\n",
    "        elif destination == 'De La Salle Taft':\n",
    "            print(up_to_ateneo + ateneo_to_lasalle)\n",
    "    \n",
    "    elif source == 'Ateneo de Manila': #when source = ADMU \n",
    "        if destination == 'De La Salle Taft':\n",
    "            print(ateneo_to_lasalle)\n",
    "        elif destination == 'UP Diliman':\n",
    "            print(ateneo_to_lasalle + lasalle_to_up)\n",
    "    \n",
    "    elif source == 'De La Salle Taft': #when source = DLSU \n",
    "        if destination == 'UP Diliman':\n",
    "            print(lasalle_to_up)\n",
    "        elif destination == 'Ateneo de Manila':\n",
    "            print(lasalle_to_up + up_to + ateneo)\n",
    "\n",
    "eta('Ateneo de Manila','De La Salle Taft')\n",
    "eta('Ateneo de Manila','UP Diliman')"
   ]
  },
  {
   "cell_type": "code",
   "execution_count": 56,
   "metadata": {},
   "outputs": [
    {
     "name": "stdout",
     "output_type": "stream",
     "text": [
      "10 minutes\n"
     ]
    }
   ],
   "source": []
  },
  {
   "cell_type": "code",
   "execution_count": null,
   "metadata": {},
   "outputs": [],
   "source": []
  }
 ],
 "metadata": {
  "kernelspec": {
   "display_name": "Python 3",
   "language": "python",
   "name": "python3"
  },
  "language_info": {
   "codemirror_mode": {
    "name": "ipython",
    "version": 3
   },
   "file_extension": ".py",
   "mimetype": "text/x-python",
   "name": "python",
   "nbconvert_exporter": "python",
   "pygments_lexer": "ipython3",
   "version": "3.8.5"
  }
 },
 "nbformat": 4,
 "nbformat_minor": 4
}
